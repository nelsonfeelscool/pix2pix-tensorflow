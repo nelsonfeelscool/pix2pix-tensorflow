{
  "nbformat": 4,
  "nbformat_minor": 0,
  "metadata": {
    "colab": {
      "name": "Test.ipynb",
      "provenance": [],
      "toc_visible": true,
      "authorship_tag": "ABX9TyMwxuFKhfBILPkzhDqp5KKa",
      "include_colab_link": true
    },
    "kernelspec": {
      "name": "python3",
      "display_name": "Python 3"
    },
    "accelerator": "GPU"
  },
  "cells": [
    {
      "cell_type": "markdown",
      "metadata": {
        "id": "view-in-github",
        "colab_type": "text"
      },
      "source": [
        "<a href=\"https://colab.research.google.com/github/nelsonfeelscool/pix2pix-tensorflow/blob/master/Test.ipynb\" target=\"_parent\"><img src=\"https://colab.research.google.com/assets/colab-badge.svg\" alt=\"Open In Colab\"/></a>"
      ]
    },
    {
      "cell_type": "code",
      "metadata": {
        "id": "kE8YuNRLIBOp",
        "colab_type": "code",
        "outputId": "25497f68-a510-482e-bc40-7c0bb86a37cd",
        "colab": {
          "base_uri": "https://localhost:8080/",
          "height": 143
        }
      },
      "source": [
        "!git clone https://github.com/phillipi/pix2pix.git"
      ],
      "execution_count": 2,
      "outputs": [
        {
          "output_type": "stream",
          "text": [
            "Cloning into 'pix2pix'...\n",
            "remote: Enumerating objects: 13, done.\u001b[K\n",
            "remote: Counting objects: 100% (13/13), done.\u001b[K\n",
            "remote: Compressing objects: 100% (12/12), done.\u001b[K\n",
            "remote: Total 470 (delta 1), reused 6 (delta 1), pack-reused 457\u001b[K\n",
            "Receiving objects: 100% (470/470), 2.44 MiB | 28.07 MiB/s, done.\n",
            "Resolving deltas: 100% (251/251), done.\n"
          ],
          "name": "stdout"
        }
      ]
    },
    {
      "cell_type": "code",
      "metadata": {
        "id": "GPqJc-qqIMJh",
        "colab_type": "code",
        "outputId": "1e29ecb5-db5f-4191-fc56-0a154a8cbe3f",
        "colab": {
          "base_uri": "https://localhost:8080/",
          "height": 107
        }
      },
      "source": [
        "!git clone https://github.com/tdeboissiere/DeepLearningImplementations.git"
      ],
      "execution_count": 3,
      "outputs": [
        {
          "output_type": "stream",
          "text": [
            "Cloning into 'DeepLearningImplementations'...\n",
            "remote: Enumerating objects: 1616, done.\u001b[K\n",
            "remote: Total 1616 (delta 0), reused 0 (delta 0), pack-reused 1616\u001b[K\n",
            "Receiving objects: 100% (1616/1616), 50.34 MiB | 46.60 MiB/s, done.\n",
            "Resolving deltas: 100% (754/754), done.\n"
          ],
          "name": "stdout"
        }
      ]
    },
    {
      "cell_type": "code",
      "metadata": {
        "id": "i1WZ7kvpIns8",
        "colab_type": "code",
        "colab": {}
      },
      "source": [
        "!rsync -a DeepLearningImplementations/pix2pix/ pix2pix/"
      ],
      "execution_count": 0,
      "outputs": []
    },
    {
      "cell_type": "code",
      "metadata": {
        "id": "UMtfU2aDIunh",
        "colab_type": "code",
        "outputId": "d53886c5-7f3a-4f0f-ddab-ad339244cc5c",
        "colab": {
          "base_uri": "https://localhost:8080/",
          "height": 53
        }
      },
      "source": [
        "ls pix2pix/"
      ],
      "execution_count": 5,
      "outputs": [
        {
          "output_type": "stream",
          "text": [
            "\u001b[0m\u001b[01;34mdata\u001b[0m/      \u001b[01;34mfigures\u001b[0m/  LICENSE  \u001b[01;32mmodels.lua\u001b[0m*  \u001b[01;34mscripts\u001b[0m/  \u001b[01;32mtest.lua\u001b[0m*  \u001b[01;34mutil\u001b[0m/\n",
            "\u001b[01;34mdatasets\u001b[0m/  \u001b[01;34mimgs\u001b[0m/     \u001b[01;34mmodels\u001b[0m/  README.md    \u001b[01;34msrc\u001b[0m/      train.lua\n"
          ],
          "name": "stdout"
        }
      ]
    },
    {
      "cell_type": "code",
      "metadata": {
        "id": "laELS_H0JoM7",
        "colab_type": "code",
        "colab": {}
      },
      "source": [
        "import os\n",
        "os.chdir('pix2pix/')"
      ],
      "execution_count": 0,
      "outputs": []
    },
    {
      "cell_type": "code",
      "metadata": {
        "id": "ljme2XHPJpTA",
        "colab_type": "code",
        "outputId": "1e3b9325-4ce5-4397-e68f-8e844a90f728",
        "colab": {
          "base_uri": "https://localhost:8080/",
          "height": 1000
        }
      },
      "source": [
        "!bash ./datasets/download_dataset.sh facades"
      ],
      "execution_count": 7,
      "outputs": [
        {
          "output_type": "stream",
          "text": [
            "Specified [facades]\n",
            "WARNING: timestamping does nothing in combination with -O. See the manual\n",
            "for details.\n",
            "\n",
            "--2020-01-14 23:54:15--  http://efrosgans.eecs.berkeley.edu/pix2pix/datasets/facades.tar.gz\n",
            "Resolving efrosgans.eecs.berkeley.edu (efrosgans.eecs.berkeley.edu)... 128.32.189.73\n",
            "Connecting to efrosgans.eecs.berkeley.edu (efrosgans.eecs.berkeley.edu)|128.32.189.73|:80... connected.\n",
            "HTTP request sent, awaiting response... 200 OK\n",
            "Length: 30168306 (29M) [application/x-gzip]\n",
            "Saving to: ‘./datasets/facades.tar.gz’\n",
            "\n",
            "./datasets/facades. 100%[===================>]  28.77M  2.27MB/s    in 23s     \n",
            "\n",
            "2020-01-14 23:54:38 (1.28 MB/s) - ‘./datasets/facades.tar.gz’ saved [30168306/30168306]\n",
            "\n",
            "facades/\n",
            "facades/test/\n",
            "facades/test/27.jpg\n",
            "facades/test/5.jpg\n",
            "facades/test/72.jpg\n",
            "facades/test/1.jpg\n",
            "facades/test/10.jpg\n",
            "facades/test/100.jpg\n",
            "facades/test/101.jpg\n",
            "facades/test/102.jpg\n",
            "facades/test/103.jpg\n",
            "facades/test/104.jpg\n",
            "facades/test/105.jpg\n",
            "facades/test/106.jpg\n",
            "facades/test/11.jpg\n",
            "facades/test/12.jpg\n",
            "facades/test/13.jpg\n",
            "facades/test/14.jpg\n",
            "facades/test/15.jpg\n",
            "facades/test/16.jpg\n",
            "facades/test/17.jpg\n",
            "facades/test/18.jpg\n",
            "facades/test/19.jpg\n",
            "facades/test/2.jpg\n",
            "facades/test/20.jpg\n",
            "facades/test/21.jpg\n",
            "facades/test/22.jpg\n",
            "facades/test/23.jpg\n",
            "facades/test/24.jpg\n",
            "facades/test/25.jpg\n",
            "facades/test/26.jpg\n",
            "facades/test/50.jpg\n",
            "facades/test/51.jpg\n",
            "facades/test/52.jpg\n",
            "facades/test/53.jpg\n",
            "facades/test/54.jpg\n",
            "facades/test/55.jpg\n",
            "facades/test/56.jpg\n",
            "facades/test/57.jpg\n",
            "facades/test/58.jpg\n",
            "facades/test/59.jpg\n",
            "facades/test/6.jpg\n",
            "facades/test/60.jpg\n",
            "facades/test/61.jpg\n",
            "facades/test/62.jpg\n",
            "facades/test/63.jpg\n",
            "facades/test/64.jpg\n",
            "facades/test/65.jpg\n",
            "facades/test/66.jpg\n",
            "facades/test/67.jpg\n",
            "facades/test/68.jpg\n",
            "facades/test/69.jpg\n",
            "facades/test/7.jpg\n",
            "facades/test/70.jpg\n",
            "facades/test/71.jpg\n",
            "facades/test/73.jpg\n",
            "facades/test/74.jpg\n",
            "facades/test/75.jpg\n",
            "facades/test/76.jpg\n",
            "facades/test/77.jpg\n",
            "facades/test/78.jpg\n",
            "facades/test/79.jpg\n",
            "facades/test/8.jpg\n",
            "facades/test/80.jpg\n",
            "facades/test/81.jpg\n",
            "facades/test/82.jpg\n",
            "facades/test/83.jpg\n",
            "facades/test/84.jpg\n",
            "facades/test/85.jpg\n",
            "facades/test/86.jpg\n",
            "facades/test/87.jpg\n",
            "facades/test/88.jpg\n",
            "facades/test/89.jpg\n",
            "facades/test/9.jpg\n",
            "facades/test/90.jpg\n",
            "facades/test/91.jpg\n",
            "facades/test/92.jpg\n",
            "facades/test/93.jpg\n",
            "facades/test/94.jpg\n",
            "facades/test/95.jpg\n",
            "facades/test/96.jpg\n",
            "facades/test/97.jpg\n",
            "facades/test/98.jpg\n",
            "facades/test/99.jpg\n",
            "facades/test/28.jpg\n",
            "facades/test/29.jpg\n",
            "facades/test/3.jpg\n",
            "facades/test/30.jpg\n",
            "facades/test/31.jpg\n",
            "facades/test/32.jpg\n",
            "facades/test/33.jpg\n",
            "facades/test/34.jpg\n",
            "facades/test/35.jpg\n",
            "facades/test/36.jpg\n",
            "facades/test/37.jpg\n",
            "facades/test/38.jpg\n",
            "facades/test/39.jpg\n",
            "facades/test/4.jpg\n",
            "facades/test/40.jpg\n",
            "facades/test/41.jpg\n",
            "facades/test/42.jpg\n",
            "facades/test/43.jpg\n",
            "facades/test/44.jpg\n",
            "facades/test/45.jpg\n",
            "facades/test/46.jpg\n",
            "facades/test/47.jpg\n",
            "facades/test/48.jpg\n",
            "facades/test/49.jpg\n",
            "facades/train/\n",
            "facades/train/1.jpg\n",
            "facades/train/10.jpg\n",
            "facades/train/100.jpg\n",
            "facades/train/101.jpg\n",
            "facades/train/102.jpg\n",
            "facades/train/103.jpg\n",
            "facades/train/104.jpg\n",
            "facades/train/105.jpg\n",
            "facades/train/106.jpg\n",
            "facades/train/107.jpg\n",
            "facades/train/108.jpg\n",
            "facades/train/109.jpg\n",
            "facades/train/11.jpg\n",
            "facades/train/110.jpg\n",
            "facades/train/111.jpg\n",
            "facades/train/112.jpg\n",
            "facades/train/113.jpg\n",
            "facades/train/114.jpg\n",
            "facades/train/115.jpg\n",
            "facades/train/116.jpg\n",
            "facades/train/117.jpg\n",
            "facades/train/118.jpg\n",
            "facades/train/119.jpg\n",
            "facades/train/12.jpg\n",
            "facades/train/120.jpg\n",
            "facades/train/121.jpg\n",
            "facades/train/122.jpg\n",
            "facades/train/123.jpg\n",
            "facades/train/124.jpg\n",
            "facades/train/125.jpg\n",
            "facades/train/126.jpg\n",
            "facades/train/309.jpg\n",
            "facades/train/31.jpg\n",
            "facades/train/310.jpg\n",
            "facades/train/311.jpg\n",
            "facades/train/312.jpg\n",
            "facades/train/313.jpg\n",
            "facades/train/314.jpg\n",
            "facades/train/315.jpg\n",
            "facades/train/316.jpg\n",
            "facades/train/317.jpg\n",
            "facades/train/318.jpg\n",
            "facades/train/319.jpg\n",
            "facades/train/32.jpg\n",
            "facades/train/320.jpg\n",
            "facades/train/321.jpg\n",
            "facades/train/322.jpg\n",
            "facades/train/323.jpg\n",
            "facades/train/324.jpg\n",
            "facades/train/325.jpg\n",
            "facades/train/326.jpg\n",
            "facades/train/327.jpg\n",
            "facades/train/328.jpg\n",
            "facades/train/329.jpg\n",
            "facades/train/390.jpg\n",
            "facades/train/391.jpg\n",
            "facades/train/392.jpg\n",
            "facades/train/393.jpg\n",
            "facades/train/394.jpg\n",
            "facades/train/395.jpg\n",
            "facades/train/396.jpg\n",
            "facades/train/397.jpg\n",
            "facades/train/398.jpg\n",
            "facades/train/399.jpg\n",
            "facades/train/4.jpg\n",
            "facades/train/40.jpg\n",
            "facades/train/400.jpg\n",
            "facades/train/41.jpg\n",
            "facades/train/42.jpg\n",
            "facades/train/43.jpg\n",
            "facades/train/44.jpg\n",
            "facades/train/45.jpg\n",
            "facades/train/46.jpg\n",
            "facades/train/47.jpg\n",
            "facades/train/48.jpg\n",
            "facades/train/49.jpg\n",
            "facades/train/5.jpg\n",
            "facades/train/50.jpg\n",
            "facades/train/51.jpg\n",
            "facades/train/52.jpg\n",
            "facades/train/53.jpg\n",
            "facades/train/54.jpg\n",
            "facades/train/55.jpg\n",
            "facades/train/56.jpg\n",
            "facades/train/57.jpg\n",
            "facades/train/58.jpg\n",
            "facades/train/59.jpg\n",
            "facades/train/6.jpg\n",
            "facades/train/60.jpg\n",
            "facades/train/61.jpg\n",
            "facades/train/222.jpg\n",
            "facades/train/223.jpg\n",
            "facades/train/224.jpg\n",
            "facades/train/225.jpg\n",
            "facades/train/226.jpg\n",
            "facades/train/227.jpg\n",
            "facades/train/228.jpg\n",
            "facades/train/229.jpg\n",
            "facades/train/23.jpg\n",
            "facades/train/230.jpg\n",
            "facades/train/231.jpg\n",
            "facades/train/232.jpg\n",
            "facades/train/233.jpg\n",
            "facades/train/234.jpg\n",
            "facades/train/235.jpg\n",
            "facades/train/236.jpg\n",
            "facades/train/237.jpg\n",
            "facades/train/238.jpg\n",
            "facades/train/239.jpg\n",
            "facades/train/24.jpg\n",
            "facades/train/240.jpg\n",
            "facades/train/241.jpg\n",
            "facades/train/242.jpg\n",
            "facades/train/243.jpg\n",
            "facades/train/244.jpg\n",
            "facades/train/245.jpg\n",
            "facades/train/156.jpg\n",
            "facades/train/157.jpg\n",
            "facades/train/158.jpg\n",
            "facades/train/159.jpg\n",
            "facades/train/16.jpg\n",
            "facades/train/160.jpg\n",
            "facades/train/161.jpg\n",
            "facades/train/162.jpg\n",
            "facades/train/163.jpg\n",
            "facades/train/164.jpg\n",
            "facades/train/165.jpg\n",
            "facades/train/166.jpg\n",
            "facades/train/167.jpg\n",
            "facades/train/168.jpg\n",
            "facades/train/169.jpg\n",
            "facades/train/17.jpg\n",
            "facades/train/170.jpg\n",
            "facades/train/171.jpg\n",
            "facades/train/172.jpg\n",
            "facades/train/173.jpg\n",
            "facades/train/174.jpg\n",
            "facades/train/175.jpg\n",
            "facades/train/176.jpg\n",
            "facades/train/177.jpg\n",
            "facades/train/178.jpg\n",
            "facades/train/179.jpg\n",
            "facades/train/18.jpg\n",
            "facades/train/180.jpg\n",
            "facades/train/181.jpg\n",
            "facades/train/182.jpg\n",
            "facades/train/183.jpg\n",
            "facades/train/184.jpg\n",
            "facades/train/185.jpg\n",
            "facades/train/186.jpg\n",
            "facades/train/187.jpg\n",
            "facades/train/188.jpg\n",
            "facades/train/189.jpg\n",
            "facades/train/19.jpg\n",
            "facades/train/127.jpg\n",
            "facades/train/155.jpg\n",
            "facades/train/190.jpg\n",
            "facades/train/221.jpg\n",
            "facades/train/246.jpg\n",
            "facades/train/27.jpg\n",
            "facades/train/29.jpg\n",
            "facades/train/308.jpg\n",
            "facades/train/33.jpg\n",
            "facades/train/350.jpg\n",
            "facades/train/370.jpg\n",
            "facades/train/39.jpg\n",
            "facades/train/62.jpg\n",
            "facades/train/270.jpg\n",
            "facades/train/271.jpg\n",
            "facades/train/272.jpg\n",
            "facades/train/273.jpg\n",
            "facades/train/274.jpg\n",
            "facades/train/275.jpg\n",
            "facades/train/276.jpg\n",
            "facades/train/277.jpg\n",
            "facades/train/278.jpg\n",
            "facades/train/279.jpg\n",
            "facades/train/28.jpg\n",
            "facades/train/280.jpg\n",
            "facades/train/281.jpg\n",
            "facades/train/282.jpg\n",
            "facades/train/283.jpg\n",
            "facades/train/284.jpg\n",
            "facades/train/285.jpg\n",
            "facades/train/286.jpg\n",
            "facades/train/287.jpg\n",
            "facades/train/288.jpg\n",
            "facades/train/289.jpg\n",
            "facades/train/351.jpg\n",
            "facades/train/352.jpg\n",
            "facades/train/353.jpg\n",
            "facades/train/354.jpg\n",
            "facades/train/355.jpg\n",
            "facades/train/356.jpg\n",
            "facades/train/357.jpg\n",
            "facades/train/358.jpg\n",
            "facades/train/359.jpg\n",
            "facades/train/36.jpg\n",
            "facades/train/360.jpg\n",
            "facades/train/361.jpg\n",
            "facades/train/362.jpg\n",
            "facades/train/363.jpg\n",
            "facades/train/364.jpg\n",
            "facades/train/365.jpg\n",
            "facades/train/366.jpg\n",
            "facades/train/367.jpg\n",
            "facades/train/368.jpg\n",
            "facades/train/369.jpg\n",
            "facades/train/37.jpg\n",
            "facades/train/63.jpg\n",
            "facades/train/64.jpg\n",
            "facades/train/65.jpg\n",
            "facades/train/66.jpg\n",
            "facades/train/67.jpg\n",
            "facades/train/68.jpg\n",
            "facades/train/69.jpg\n",
            "facades/train/7.jpg\n",
            "facades/train/70.jpg\n",
            "facades/train/71.jpg\n",
            "facades/train/72.jpg\n",
            "facades/train/73.jpg\n",
            "facades/train/74.jpg\n",
            "facades/train/75.jpg\n",
            "facades/train/76.jpg\n",
            "facades/train/77.jpg\n",
            "facades/train/78.jpg\n",
            "facades/train/79.jpg\n",
            "facades/train/8.jpg\n",
            "facades/train/80.jpg\n",
            "facades/train/81.jpg\n",
            "facades/train/82.jpg\n",
            "facades/train/83.jpg\n",
            "facades/train/84.jpg\n",
            "facades/train/85.jpg\n",
            "facades/train/86.jpg\n",
            "facades/train/87.jpg\n",
            "facades/train/88.jpg\n",
            "facades/train/89.jpg\n",
            "facades/train/9.jpg\n",
            "facades/train/90.jpg\n",
            "facades/train/91.jpg\n",
            "facades/train/92.jpg\n",
            "facades/train/93.jpg\n",
            "facades/train/94.jpg\n",
            "facades/train/95.jpg\n",
            "facades/train/96.jpg\n",
            "facades/train/97.jpg\n",
            "facades/train/98.jpg\n",
            "facades/train/99.jpg\n",
            "facades/train/128.jpg\n",
            "facades/train/129.jpg\n",
            "facades/train/13.jpg\n",
            "facades/train/130.jpg\n",
            "facades/train/131.jpg\n",
            "facades/train/132.jpg\n",
            "facades/train/133.jpg\n",
            "facades/train/134.jpg\n",
            "facades/train/135.jpg\n",
            "facades/train/136.jpg\n",
            "facades/train/137.jpg\n",
            "facades/train/138.jpg\n",
            "facades/train/139.jpg\n",
            "facades/train/14.jpg\n",
            "facades/train/140.jpg\n",
            "facades/train/141.jpg\n",
            "facades/train/142.jpg\n",
            "facades/train/143.jpg\n",
            "facades/train/144.jpg\n",
            "facades/train/145.jpg\n",
            "facades/train/146.jpg\n",
            "facades/train/147.jpg\n",
            "facades/train/148.jpg\n",
            "facades/train/149.jpg\n",
            "facades/train/15.jpg\n",
            "facades/train/150.jpg\n",
            "facades/train/151.jpg\n",
            "facades/train/152.jpg\n",
            "facades/train/153.jpg\n",
            "facades/train/154.jpg\n",
            "facades/train/191.jpg\n",
            "facades/train/192.jpg\n",
            "facades/train/193.jpg\n",
            "facades/train/194.jpg\n",
            "facades/train/195.jpg\n",
            "facades/train/196.jpg\n",
            "facades/train/197.jpg\n",
            "facades/train/198.jpg\n",
            "facades/train/199.jpg\n",
            "facades/train/2.jpg\n",
            "facades/train/20.jpg\n",
            "facades/train/200.jpg\n",
            "facades/train/201.jpg\n",
            "facades/train/202.jpg\n",
            "facades/train/203.jpg\n",
            "facades/train/204.jpg\n",
            "facades/train/205.jpg\n",
            "facades/train/206.jpg\n",
            "facades/train/207.jpg\n",
            "facades/train/208.jpg\n",
            "facades/train/209.jpg\n",
            "facades/train/21.jpg\n",
            "facades/train/210.jpg\n",
            "facades/train/211.jpg\n",
            "facades/train/212.jpg\n",
            "facades/train/213.jpg\n",
            "facades/train/214.jpg\n",
            "facades/train/215.jpg\n",
            "facades/train/216.jpg\n",
            "facades/train/217.jpg\n",
            "facades/train/218.jpg\n",
            "facades/train/219.jpg\n",
            "facades/train/22.jpg\n",
            "facades/train/220.jpg\n",
            "facades/train/247.jpg\n",
            "facades/train/248.jpg\n",
            "facades/train/249.jpg\n",
            "facades/train/25.jpg\n",
            "facades/train/250.jpg\n",
            "facades/train/251.jpg\n",
            "facades/train/252.jpg\n",
            "facades/train/253.jpg\n",
            "facades/train/254.jpg\n",
            "facades/train/255.jpg\n",
            "facades/train/256.jpg\n",
            "facades/train/257.jpg\n",
            "facades/train/258.jpg\n",
            "facades/train/259.jpg\n",
            "facades/train/26.jpg\n",
            "facades/train/260.jpg\n",
            "facades/train/261.jpg\n",
            "facades/train/262.jpg\n",
            "facades/train/263.jpg\n",
            "facades/train/264.jpg\n",
            "facades/train/265.jpg\n",
            "facades/train/266.jpg\n",
            "facades/train/267.jpg\n",
            "facades/train/268.jpg\n",
            "facades/train/269.jpg\n",
            "facades/train/330.jpg\n",
            "facades/train/331.jpg\n",
            "facades/train/332.jpg\n",
            "facades/train/333.jpg\n",
            "facades/train/334.jpg\n",
            "facades/train/335.jpg\n",
            "facades/train/336.jpg\n",
            "facades/train/337.jpg\n",
            "facades/train/338.jpg\n",
            "facades/train/339.jpg\n",
            "facades/train/34.jpg\n",
            "facades/train/340.jpg\n",
            "facades/train/341.jpg\n",
            "facades/train/342.jpg\n",
            "facades/train/343.jpg\n",
            "facades/train/344.jpg\n",
            "facades/train/345.jpg\n",
            "facades/train/346.jpg\n",
            "facades/train/347.jpg\n",
            "facades/train/348.jpg\n",
            "facades/train/349.jpg\n",
            "facades/train/35.jpg\n",
            "facades/train/290.jpg\n",
            "facades/train/291.jpg\n",
            "facades/train/292.jpg\n",
            "facades/train/293.jpg\n",
            "facades/train/294.jpg\n",
            "facades/train/295.jpg\n",
            "facades/train/296.jpg\n",
            "facades/train/297.jpg\n",
            "facades/train/298.jpg\n",
            "facades/train/299.jpg\n",
            "facades/train/3.jpg\n",
            "facades/train/30.jpg\n",
            "facades/train/300.jpg\n",
            "facades/train/301.jpg\n",
            "facades/train/302.jpg\n",
            "facades/train/303.jpg\n",
            "facades/train/304.jpg\n",
            "facades/train/305.jpg\n",
            "facades/train/306.jpg\n",
            "facades/train/307.jpg\n",
            "facades/train/371.jpg\n",
            "facades/train/372.jpg\n",
            "facades/train/373.jpg\n",
            "facades/train/374.jpg\n",
            "facades/train/375.jpg\n",
            "facades/train/376.jpg\n",
            "facades/train/377.jpg\n",
            "facades/train/378.jpg\n",
            "facades/train/379.jpg\n",
            "facades/train/38.jpg\n",
            "facades/train/380.jpg\n",
            "facades/train/381.jpg\n",
            "facades/train/382.jpg\n",
            "facades/train/383.jpg\n",
            "facades/train/384.jpg\n",
            "facades/train/385.jpg\n",
            "facades/train/386.jpg\n",
            "facades/train/387.jpg\n",
            "facades/train/388.jpg\n",
            "facades/train/389.jpg\n",
            "facades/val/\n",
            "facades/val/30.jpg\n",
            "facades/val/50.jpg\n",
            "facades/val/73.jpg\n",
            "facades/val/1.jpg\n",
            "facades/val/10.jpg\n",
            "facades/val/100.jpg\n",
            "facades/val/11.jpg\n",
            "facades/val/12.jpg\n",
            "facades/val/13.jpg\n",
            "facades/val/14.jpg\n",
            "facades/val/15.jpg\n",
            "facades/val/16.jpg\n",
            "facades/val/17.jpg\n",
            "facades/val/18.jpg\n",
            "facades/val/19.jpg\n",
            "facades/val/2.jpg\n",
            "facades/val/20.jpg\n",
            "facades/val/21.jpg\n",
            "facades/val/22.jpg\n",
            "facades/val/23.jpg\n",
            "facades/val/24.jpg\n",
            "facades/val/25.jpg\n",
            "facades/val/26.jpg\n",
            "facades/val/27.jpg\n",
            "facades/val/28.jpg\n",
            "facades/val/29.jpg\n",
            "facades/val/3.jpg\n",
            "facades/val/51.jpg\n",
            "facades/val/52.jpg\n",
            "facades/val/53.jpg\n",
            "facades/val/54.jpg\n",
            "facades/val/55.jpg\n",
            "facades/val/56.jpg\n",
            "facades/val/57.jpg\n",
            "facades/val/58.jpg\n",
            "facades/val/59.jpg\n",
            "facades/val/6.jpg\n",
            "facades/val/60.jpg\n",
            "facades/val/61.jpg\n",
            "facades/val/62.jpg\n",
            "facades/val/63.jpg\n",
            "facades/val/64.jpg\n",
            "facades/val/65.jpg\n",
            "facades/val/66.jpg\n",
            "facades/val/67.jpg\n",
            "facades/val/68.jpg\n",
            "facades/val/69.jpg\n",
            "facades/val/7.jpg\n",
            "facades/val/70.jpg\n",
            "facades/val/71.jpg\n",
            "facades/val/72.jpg\n",
            "facades/val/74.jpg\n",
            "facades/val/75.jpg\n",
            "facades/val/76.jpg\n",
            "facades/val/77.jpg\n",
            "facades/val/78.jpg\n",
            "facades/val/79.jpg\n",
            "facades/val/8.jpg\n",
            "facades/val/80.jpg\n",
            "facades/val/81.jpg\n",
            "facades/val/82.jpg\n",
            "facades/val/83.jpg\n",
            "facades/val/84.jpg\n",
            "facades/val/85.jpg\n",
            "facades/val/86.jpg\n",
            "facades/val/87.jpg\n",
            "facades/val/88.jpg\n",
            "facades/val/89.jpg\n",
            "facades/val/9.jpg\n",
            "facades/val/90.jpg\n",
            "facades/val/91.jpg\n",
            "facades/val/92.jpg\n",
            "facades/val/93.jpg\n",
            "facades/val/94.jpg\n",
            "facades/val/95.jpg\n",
            "facades/val/96.jpg\n",
            "facades/val/97.jpg\n",
            "facades/val/98.jpg\n",
            "facades/val/99.jpg\n",
            "facades/val/31.jpg\n",
            "facades/val/32.jpg\n",
            "facades/val/33.jpg\n",
            "facades/val/34.jpg\n",
            "facades/val/35.jpg\n",
            "facades/val/36.jpg\n",
            "facades/val/37.jpg\n",
            "facades/val/38.jpg\n",
            "facades/val/39.jpg\n",
            "facades/val/4.jpg\n",
            "facades/val/40.jpg\n",
            "facades/val/41.jpg\n",
            "facades/val/42.jpg\n",
            "facades/val/43.jpg\n",
            "facades/val/44.jpg\n",
            "facades/val/45.jpg\n",
            "facades/val/46.jpg\n",
            "facades/val/47.jpg\n",
            "facades/val/48.jpg\n",
            "facades/val/49.jpg\n",
            "facades/val/5.jpg\n"
          ],
          "name": "stdout"
        }
      ]
    },
    {
      "cell_type": "code",
      "metadata": {
        "id": "kYQr5twwJwS_",
        "colab_type": "code",
        "outputId": "8c183f45-3ea3-42fa-ddb1-b8f2c95fad98",
        "colab": {
          "base_uri": "https://localhost:8080/",
          "height": 35
        }
      },
      "source": [
        "!python -V"
      ],
      "execution_count": 8,
      "outputs": [
        {
          "output_type": "stream",
          "text": [
            "Python 3.6.9\n"
          ],
          "name": "stdout"
        }
      ]
    },
    {
      "cell_type": "code",
      "metadata": {
        "id": "qpa6ETRTKE7e",
        "colab_type": "code",
        "outputId": "8efdb4c9-172a-4690-86d1-b683006189ee",
        "colab": {
          "base_uri": "https://localhost:8080/",
          "height": 89
        }
      },
      "source": [
        "!pip install parmap==1.5.1"
      ],
      "execution_count": 9,
      "outputs": [
        {
          "output_type": "stream",
          "text": [
            "Collecting parmap==1.5.1\n",
            "  Downloading https://files.pythonhosted.org/packages/33/8f/608aefca30002d69d18535cf65c3dba9ce1610f01ab112138e1cd3e31f76/parmap-1.5.1-py2.py3-none-any.whl\n",
            "Installing collected packages: parmap\n",
            "Successfully installed parmap-1.5.1\n"
          ],
          "name": "stdout"
        }
      ]
    },
    {
      "cell_type": "code",
      "metadata": {
        "id": "n1NIAZs1KHKd",
        "colab_type": "code",
        "outputId": "03ece875-71d0-4d3e-b4c8-daf2cee71e09",
        "colab": {
          "base_uri": "https://localhost:8080/",
          "height": 35
        }
      },
      "source": [
        "!pip install tqdm==4.17.0"
      ],
      "execution_count": 25,
      "outputs": [
        {
          "output_type": "stream",
          "text": [
            "Requirement already satisfied: tqdm==4.17.0 in /usr/local/lib/python3.6/dist-packages (4.17.0)\n"
          ],
          "name": "stdout"
        }
      ]
    },
    {
      "cell_type": "code",
      "metadata": {
        "id": "3wFWKE2uKJkS",
        "colab_type": "code",
        "outputId": "c67ce70d-1b9e-41e9-f788-98fab6ee8d2f",
        "colab": {
          "base_uri": "https://localhost:8080/",
          "height": 53
        }
      },
      "source": [
        "!pip install opencv_python==3.3.0.10"
      ],
      "execution_count": 24,
      "outputs": [
        {
          "output_type": "stream",
          "text": [
            "Requirement already satisfied: opencv_python==3.3.0.10 in /usr/local/lib/python3.6/dist-packages (3.3.0.10)\n",
            "Requirement already satisfied: numpy>=1.11.3 in /usr/local/lib/python3.6/dist-packages (from opencv_python==3.3.0.10) (1.13.3)\n"
          ],
          "name": "stdout"
        }
      ]
    },
    {
      "cell_type": "code",
      "metadata": {
        "id": "5Sdk_u_4KMsJ",
        "colab_type": "code",
        "outputId": "2fecc18a-5d30-4c23-b0a7-4172b77d3614",
        "colab": {
          "base_uri": "https://localhost:8080/",
          "height": 197
        }
      },
      "source": [
        "!pip install h5py==2.7.0"
      ],
      "execution_count": 12,
      "outputs": [
        {
          "output_type": "stream",
          "text": [
            "Collecting h5py==2.7.0\n",
            "\u001b[?25l  Downloading https://files.pythonhosted.org/packages/d4/f9/a449c76cab5d310fc0f7cf56ccb7d531b8abe21dd6395312a5f9e9c330ac/h5py-2.7.0-cp36-cp36m-manylinux1_x86_64.whl (4.8MB)\n",
            "\u001b[K     |████████████████████████████████| 4.8MB 42kB/s \n",
            "\u001b[?25hRequirement already satisfied: numpy>=1.7 in /usr/local/lib/python3.6/dist-packages (from h5py==2.7.0) (1.17.5)\n",
            "Requirement already satisfied: six in /usr/local/lib/python3.6/dist-packages (from h5py==2.7.0) (1.12.0)\n",
            "Installing collected packages: h5py\n",
            "  Found existing installation: h5py 2.8.0\n",
            "    Uninstalling h5py-2.8.0:\n",
            "      Successfully uninstalled h5py-2.8.0\n",
            "Successfully installed h5py-2.7.0\n"
          ],
          "name": "stdout"
        }
      ]
    },
    {
      "cell_type": "code",
      "metadata": {
        "id": "1sCI6AlxKP4f",
        "colab_type": "code",
        "outputId": "be234b1d-a88e-40ac-aecf-f59646c17b76",
        "colab": {
          "base_uri": "https://localhost:8080/",
          "height": 35
        }
      },
      "source": [
        "!pip install numpy==1.13.3"
      ],
      "execution_count": 23,
      "outputs": [
        {
          "output_type": "stream",
          "text": [
            "Requirement already satisfied: numpy==1.13.3 in /usr/local/lib/python3.6/dist-packages (1.13.3)\n"
          ],
          "name": "stdout"
        }
      ]
    },
    {
      "cell_type": "code",
      "metadata": {
        "id": "GDklm54xO88-",
        "colab_type": "code",
        "colab": {}
      },
      "source": [
        "os.chdir('./src/data/')"
      ],
      "execution_count": 0,
      "outputs": []
    },
    {
      "cell_type": "code",
      "metadata": {
        "id": "mqhXVIiFL6uh",
        "colab_type": "code",
        "outputId": "9689aff4-754e-4d96-a4c5-e2ce37dbb33b",
        "colab": {
          "base_uri": "https://localhost:8080/",
          "height": 71
        }
      },
      "source": [
        "!python make_dataset.py ../../datasets/facades/ 3 --img_size 256"
      ],
      "execution_count": 15,
      "outputs": [
        {
          "output_type": "stream",
          "text": [
            "100% 4/4 [00:02<00:00,  1.79it/s]\n",
            "100% 1/1 [00:00<00:00,  2.00it/s]\n",
            "100% 1/1 [00:00<00:00,  2.42it/s]\n"
          ],
          "name": "stdout"
        }
      ]
    },
    {
      "cell_type": "code",
      "metadata": {
        "id": "fIuiXIXqMa5Z",
        "colab_type": "code",
        "colab": {}
      },
      "source": [
        "os.chdir('../../src/model/')"
      ],
      "execution_count": 0,
      "outputs": []
    },
    {
      "cell_type": "code",
      "metadata": {
        "id": "ASbEPQhLMdKc",
        "colab_type": "code",
        "outputId": "a89037b4-9145-44f3-f682-185a26d4d7cf",
        "colab": {
          "base_uri": "https://localhost:8080/",
          "height": 251
        }
      },
      "source": [
        "!pip install pydot==1.2.3"
      ],
      "execution_count": 17,
      "outputs": [
        {
          "output_type": "stream",
          "text": [
            "Collecting pydot==1.2.3\n",
            "  Downloading https://files.pythonhosted.org/packages/ae/e6/2c0b7c142c18fb89b294734d45d4264a71269686090af69404df211754c3/pydot-1.2.3.tar.gz\n",
            "Requirement already satisfied: pyparsing>=2.1.4 in /usr/local/lib/python3.6/dist-packages (from pydot==1.2.3) (2.4.6)\n",
            "Building wheels for collected packages: pydot\n",
            "  Building wheel for pydot (setup.py) ... \u001b[?25l\u001b[?25hdone\n",
            "  Created wheel for pydot: filename=pydot-1.2.3-cp36-none-any.whl size=18927 sha256=3ec08a7de7b3da7e40ad0168887e7eacd09acbd0a4394a98d7c637f73a9dc7de\n",
            "  Stored in directory: /root/.cache/pip/wheels/59/7f/14/5a40a9ec16d3c2e4106498e7fc9f1fd94f4eba38b484cad72a\n",
            "Successfully built pydot\n",
            "Installing collected packages: pydot\n",
            "  Found existing installation: pydot 1.3.0\n",
            "    Uninstalling pydot-1.3.0:\n",
            "      Successfully uninstalled pydot-1.3.0\n",
            "Successfully installed pydot-1.2.3\n"
          ],
          "name": "stdout"
        }
      ]
    },
    {
      "cell_type": "code",
      "metadata": {
        "id": "cA-xv4DIMiER",
        "colab_type": "code",
        "outputId": "1e481337-cede-49f9-f566-af1729501b6a",
        "colab": {
          "base_uri": "https://localhost:8080/",
          "height": 143
        }
      },
      "source": [
        "!pip install graphviz==0.8.1"
      ],
      "execution_count": 18,
      "outputs": [
        {
          "output_type": "stream",
          "text": [
            "Collecting graphviz==0.8.1\n",
            "  Downloading https://files.pythonhosted.org/packages/82/cc/668725769a1b184322019b494bbdfbb82bbef5cecc1dd8be6f778cf1422b/graphviz-0.8.1-py2.py3-none-any.whl\n",
            "Installing collected packages: graphviz\n",
            "  Found existing installation: graphviz 0.10.1\n",
            "    Uninstalling graphviz-0.10.1:\n",
            "      Successfully uninstalled graphviz-0.10.1\n",
            "Successfully installed graphviz-0.8.1\n"
          ],
          "name": "stdout"
        }
      ]
    },
    {
      "cell_type": "code",
      "metadata": {
        "id": "9ITCbNazNitA",
        "colab_type": "code",
        "outputId": "fa138421-5f68-4ec7-aa4e-7d65637c9721",
        "colab": {
          "base_uri": "https://localhost:8080/",
          "height": 215
        }
      },
      "source": [
        "!pip install pydot3==1.0.9"
      ],
      "execution_count": 19,
      "outputs": [
        {
          "output_type": "stream",
          "text": [
            "Collecting pydot3==1.0.9\n",
            "  Downloading https://files.pythonhosted.org/packages/bb/49/7cb19ec1b3a984ee12f9fbb4ecb990bf9a197a2a69351f51c312e3ce2eb0/pydot3-1.0.9.tar.gz\n",
            "Requirement already satisfied: pyparsing in /usr/local/lib/python3.6/dist-packages (from pydot3==1.0.9) (2.4.6)\n",
            "Requirement already satisfied: setuptools in /usr/local/lib/python3.6/dist-packages (from pydot3==1.0.9) (42.0.2)\n",
            "Building wheels for collected packages: pydot3\n",
            "  Building wheel for pydot3 (setup.py) ... \u001b[?25l\u001b[?25hdone\n",
            "  Created wheel for pydot3: filename=pydot3-1.0.9-cp36-none-any.whl size=21274 sha256=ad98c660bf7b4b4dd99449cabc98c1bbd25957b2150e3432b9b25169e40b77cb\n",
            "  Stored in directory: /root/.cache/pip/wheels/1a/31/21/e66efd6b46380648e70c81de5544952acb3063b806cdd6a417\n",
            "Successfully built pydot3\n",
            "Installing collected packages: pydot3\n",
            "Successfully installed pydot3-1.0.9\n"
          ],
          "name": "stdout"
        }
      ]
    },
    {
      "cell_type": "code",
      "metadata": {
        "id": "zOwk9jxzNkg7",
        "colab_type": "code",
        "outputId": "81506741-e364-4f81-fd9b-ef9b57ae782b",
        "colab": {
          "base_uri": "https://localhost:8080/",
          "height": 251
        }
      },
      "source": [
        "!pip install pydot-ng==1.0.0"
      ],
      "execution_count": 20,
      "outputs": [
        {
          "output_type": "stream",
          "text": [
            "Collecting pydot-ng==1.0.0\n",
            "  Downloading https://files.pythonhosted.org/packages/de/64/86b0502c3644190c0b9fed0e378ee18f31b1f0262bdead1eb9ac1d404529/pydot_ng-1.0.0.tar.gz\n",
            "Requirement already satisfied: pyparsing>=2.0.1 in /usr/local/lib/python3.6/dist-packages (from pydot-ng==1.0.0) (2.4.6)\n",
            "Building wheels for collected packages: pydot-ng\n",
            "  Building wheel for pydot-ng (setup.py) ... \u001b[?25l\u001b[?25hdone\n",
            "  Created wheel for pydot-ng: filename=pydot_ng-1.0.0-cp36-none-any.whl size=20976 sha256=d800fbcec4042d85ba8a5ac0449e6332263835bd05abad3543d8bbe55a79cd57\n",
            "  Stored in directory: /root/.cache/pip/wheels/ef/d1/b6/e2b937c79d99d49b7db9233832a425c7e6b787486f5831b302\n",
            "Successfully built pydot-ng\n",
            "Installing collected packages: pydot-ng\n",
            "  Found existing installation: pydot-ng 2.0.0\n",
            "    Uninstalling pydot-ng-2.0.0:\n",
            "      Successfully uninstalled pydot-ng-2.0.0\n",
            "Successfully installed pydot-ng-1.0.0\n"
          ],
          "name": "stdout"
        }
      ]
    },
    {
      "cell_type": "code",
      "metadata": {
        "id": "CeQbsTaYNmH_",
        "colab_type": "code",
        "outputId": "bca73e1d-a39b-48b6-c92e-2c6e8d8cecc3",
        "colab": {
          "base_uri": "https://localhost:8080/",
          "height": 161
        }
      },
      "source": [
        "!apt-get install graphviz"
      ],
      "execution_count": 21,
      "outputs": [
        {
          "output_type": "stream",
          "text": [
            "Reading package lists... Done\n",
            "Building dependency tree       \n",
            "Reading state information... Done\n",
            "graphviz is already the newest version (2.40.1-2).\n",
            "The following package was automatically installed and is no longer required:\n",
            "  libnvidia-common-430\n",
            "Use 'apt autoremove' to remove it.\n",
            "0 upgraded, 0 newly installed, 0 to remove and 7 not upgraded.\n"
          ],
          "name": "stdout"
        }
      ]
    },
    {
      "cell_type": "code",
      "metadata": {
        "id": "QT8fp1e5fu1E",
        "colab_type": "code",
        "colab": {
          "base_uri": "https://localhost:8080/",
          "height": 35
        },
        "outputId": "9771aa45-cad2-4bd6-a7cf-b4e6053c0dbb"
      },
      "source": [
        "pip install --no-cache-dir numpy==1.16.0"
      ],
      "execution_count": 38,
      "outputs": [
        {
          "output_type": "stream",
          "text": [
            "Requirement already satisfied: numpy==1.16.0 in /usr/local/lib/python3.6/dist-packages (1.16.0)\n"
          ],
          "name": "stdout"
        }
      ]
    },
    {
      "cell_type": "code",
      "metadata": {
        "id": "v4CZF7-ENoEA",
        "colab_type": "code",
        "outputId": "1fa8d1a8-bf9e-4236-d1b1-bf0ced9c9fab",
        "colab": {
          "base_uri": "https://localhost:8080/",
          "height": 307
        }
      },
      "source": [
        "!python main.py 64 64 --backend tensorflow --nb_epoch 10"
      ],
      "execution_count": 36,
      "outputs": [
        {
          "output_type": "stream",
          "text": [
            "/usr/local/lib/python3.6/dist-packages/h5py/__init__.py:34: FutureWarning: Conversion of the second argument of issubdtype from `float` to `np.floating` is deprecated. In future, it will be treated as `np.float64 == np.dtype(float).type`.\n",
            "  from ._conv import register_converters as _register_converters\n",
            "Using TensorFlow backend.\n",
            "Traceback (most recent call last):\n",
            "  File \"main.py\", line 73, in <module>\n",
            "    launch_training(**d_params)\n",
            "  File \"main.py\", line 8, in launch_training\n",
            "    train.train(**kwargs)\n",
            "  File \"/content/pix2pix/src/model/train.py\", line 72, in train\n",
            "    do_plot)\n",
            "  File \"/content/pix2pix/src/model/models.py\", line 310, in load\n",
            "    model = generator_unet_upsampling(img_dim, bn_mode, model_name=model_name)\n",
            "  File \"/content/pix2pix/src/model/models.py\", line 92, in generator_unet_upsampling\n",
            "    if K.image_dim_ordering() == \"channels_first\":\n",
            "AttributeError: module 'keras.backend' has no attribute 'image_dim_ordering'\n"
          ],
          "name": "stdout"
        }
      ]
    }
  ]
}